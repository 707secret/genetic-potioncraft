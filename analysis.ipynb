{
 "cells": [
  {
   "cell_type": "code",
   "execution_count": 34,
   "outputs": [],
   "source": [
    "from ga_func import ga\n",
    "import pandas as pd"
   ],
   "metadata": {
    "collapsed": false,
    "pycharm": {
     "name": "#%%\n"
    }
   }
  },
  {
   "cell_type": "code",
   "execution_count": 35,
   "outputs": [],
   "source": [
    "def return_mut_names(i):\n",
    "    if i == 1:\n",
    "            mut = 'mut_uniform'\n",
    "    if i == 2:\n",
    "            mut = 'mut_invert'\n",
    "    return mut\n",
    "\n",
    "def return_cross_names(j):\n",
    "    if j == 1:\n",
    "            cros = 'cx_1p'\n",
    "    if j == 2:\n",
    "            cros = 'cx_2p'\n",
    "    return cros"
   ],
   "metadata": {
    "collapsed": false,
    "pycharm": {
     "name": "#%%\n"
    }
   }
  },
  {
   "cell_type": "code",
   "execution_count": 38,
   "outputs": [
    {
     "name": "stderr",
     "output_type": "stream",
     "text": [
      "C:\\Users\\79833\\AppData\\Local\\Programs\\Python\\Python39\\lib\\site-packages\\deap\\creator.py:138: RuntimeWarning: A class named 'FitnessMin' has already been created and it will be overwritten. Consider deleting previous creation of that class or rename it.\n",
      "  warnings.warn(\"A class named '{0}' has already been created and it \"\n",
      "C:\\Users\\79833\\AppData\\Local\\Programs\\Python\\Python39\\lib\\site-packages\\deap\\creator.py:138: RuntimeWarning: A class named 'Individual' has already been created and it will be overwritten. Consider deleting previous creation of that class or rename it.\n",
      "  warnings.warn(\"A class named '{0}' has already been created and it \"\n",
      "C:\\Users\\79833\\AppData\\Local\\Programs\\Python\\Python39\\lib\\site-packages\\geppy\\algorithms\\basic.py:28: UserWarning: mut_rnc_array_dc is registered, but its probability is NOT assigned in Toolbox.pbs. By default, the probability is ZERO and the operator mut_rnc_array_dc will NOT be applied.\n",
      "  warnings.warn('{0} is registered, but its probability is NOT assigned in Toolbox.pbs. '\n",
      "D:\\comptech-winter-school_genetic-potioncraft\\genetic-potioncraft\\ga_func.py:93: FutureWarning: `rcond` parameter will change to the default of machine precision times ``max(M, N)`` where M and N are the input matrix dimensions.\n",
      "To use the future default and silence this warning we advise to pass `rcond=None`, to keep using the old, explicitly pass `rcond=-1`.\n",
      "  (individual.a, individual.b), residuals, _, _ = np.linalg.lstsq(Q, Y)\n"
     ]
    },
    {
     "name": "stdout",
     "output_type": "stream",
     "text": [
      "gen\tnevals\tavg     \tstd      \tmin      \tmax     \n",
      "0  \t120   \t0.168418\t0.0917973\t0.0146509\t0.249911\n",
      "1  \t119   \t0.0872365\t0.0809388\t0.0107232\t0.249876\n",
      "2  \t119   \t0.0676516\t0.0787645\t0.0107232\t0.249911\n",
      "3  \t119   \t0.0522162\t0.0641988\t0.00856821\t0.249911\n",
      "4  \t119   \t0.0672201\t0.0749523\t0.00856821\t0.249876\n",
      "5  \t119   \t0.0509166\t0.0600448\t0.00856821\t0.249876\n",
      "6  \t119   \t0.0518225\t0.0654334\t0.00856821\t0.249612\n",
      "7  \t119   \t0.0600142\t0.0786794\t0.00856821\t0.249876\n",
      "8  \t119   \t0.0569897\t0.0800803\t0.00856821\t0.24975 \n",
      "9  \t119   \t0.055648 \t0.0780941\t0.00856821\t0.249885\n",
      "10 \t119   \t0.0731807\t0.0869803\t0.0084787 \t0.249885\n",
      "11 \t119   \t0.0608947\t0.0794595\t0.0084787 \t0.249885\n",
      "12 \t119   \t0.052976 \t0.0764544\t0.0084787 \t0.24986 \n",
      "13 \t119   \t0.0550565\t0.0771655\t0.0084787 \t0.249885\n",
      "14 \t119   \t0.045695 \t0.0679305\t0.0084787 \t0.24938 \n",
      "15 \t119   \t0.0506696\t0.0749671\t0.00760065\t0.249885\n",
      "16 \t119   \t0.0415062\t0.0654996\t0.00760065\t0.249885\n",
      "17 \t119   \t0.0508866\t0.07118  \t0.00690656\t0.249911\n",
      "18 \t119   \t0.0413446\t0.0670517\t0.00690656\t0.249906\n",
      "19 \t119   \t0.0507029\t0.0751716\t0.00690656\t0.249882\n",
      "20 \t119   \t0.0500661\t0.0721856\t0.00690656\t0.249861\n",
      "21 \t119   \t0.0410925\t0.0650789\t0.00690656\t0.249748\n",
      "22 \t119   \t0.0374855\t0.057868 \t0.00690656\t0.249529\n",
      "23 \t119   \t0.0452379\t0.0623887\t0.00690656\t0.249534\n",
      "24 \t119   \t0.0388001\t0.0548868\t0.00690656\t0.249876\n",
      "25 \t119   \t0.0388769\t0.0609898\t0.00690656\t0.249905\n",
      "26 \t119   \t0.0374414\t0.0560216\t0.00690656\t0.249718\n",
      "27 \t119   \t0.0416169\t0.0550521\t0.00690656\t0.249576\n",
      "28 \t119   \t0.0332607\t0.0525418\t0.00690656\t0.24915 \n",
      "29 \t119   \t0.0353525\t0.0559187\t0.00690656\t0.249666\n",
      "30 \t119   \t0.0422232\t0.0599504\t0.00690656\t0.249847\n",
      "31 \t119   \t0.0455245\t0.0643713\t0.00563615\t0.249876\n",
      "32 \t119   \t0.0350292\t0.051021 \t0.00563615\t0.243973\n",
      "33 \t119   \t0.0462161\t0.0688796\t0.00563615\t0.249887\n",
      "34 \t119   \t0.0388211\t0.0603577\t0.00563615\t0.249508\n",
      "35 \t119   \t0.0504637\t0.0714755\t0.00563615\t0.24991 \n",
      "36 \t119   \t0.0426617\t0.0625823\t0.00483535\t0.249906\n",
      "37 \t119   \t0.0429938\t0.0619271\t0.00483535\t0.249577\n",
      "38 \t119   \t0.0556001\t0.0751867\t0.00483535\t0.249876\n",
      "39 \t119   \t0.0345796\t0.0527975\t0.00483535\t0.249839\n",
      "40 \t119   \t0.0441755\t0.0634881\t0.00483535\t0.249876\n",
      "41 \t119   \t0.0538171\t0.0733157\t0.00483535\t0.24979 \n",
      "42 \t119   \t0.0462351\t0.0656418\t0.00483535\t0.249492\n",
      "43 \t119   \t0.041447 \t0.0614917\t0.00483535\t0.249904\n",
      "44 \t119   \t0.0455222\t0.0653855\t0.00483535\t0.248973\n",
      "45 \t119   \t0.0372364\t0.0655176\t0.00483535\t0.24989 \n",
      "46 \t119   \t0.0552869\t0.068213 \t0.00483535\t0.24565 \n",
      "47 \t119   \t0.0556726\t0.0754056\t0.00483535\t0.249906\n",
      "48 \t119   \t0.0453162\t0.0681944\t0.00483535\t0.24991 \n",
      "49 \t119   \t0.0493994\t0.0653485\t0.00483535\t0.246441\n",
      "50 \t119   \t0.0504235\t0.0709302\t0.00483535\t0.249906\n"
     ]
    },
    {
     "ename": "AttributeError",
     "evalue": "module 'geppy' has no attribute 'simplify'",
     "output_type": "error",
     "traceback": [
      "\u001B[1;31m---------------------------------------------------------------------------\u001B[0m",
      "\u001B[1;31mAttributeError\u001B[0m                            Traceback (most recent call last)",
      "\u001B[1;32m~\\AppData\\Local\\Temp/ipykernel_18172/124805515.py\u001B[0m in \u001B[0;36m<module>\u001B[1;34m\u001B[0m\n\u001B[0;32m      4\u001B[0m     \u001B[0mmut\u001B[0m \u001B[1;33m=\u001B[0m \u001B[0mreturn_mut_names\u001B[0m\u001B[1;33m(\u001B[0m\u001B[0mi\u001B[0m\u001B[1;33m)\u001B[0m\u001B[1;33m\u001B[0m\u001B[1;33m\u001B[0m\u001B[0m\n\u001B[0;32m      5\u001B[0m     \u001B[1;32mfor\u001B[0m \u001B[0mj\u001B[0m \u001B[1;32min\u001B[0m \u001B[1;33m[\u001B[0m\u001B[1;36m1\u001B[0m\u001B[1;33m,\u001B[0m\u001B[1;36m2\u001B[0m\u001B[1;33m]\u001B[0m\u001B[1;33m:\u001B[0m\u001B[1;33m\u001B[0m\u001B[1;33m\u001B[0m\u001B[0m\n\u001B[1;32m----> 6\u001B[1;33m         \u001B[0mmean\u001B[0m\u001B[1;33m,\u001B[0m \u001B[0mr2\u001B[0m \u001B[1;33m=\u001B[0m \u001B[0mga\u001B[0m\u001B[1;33m(\u001B[0m\u001B[0mi\u001B[0m\u001B[1;33m,\u001B[0m \u001B[0mj\u001B[0m\u001B[1;33m)\u001B[0m\u001B[1;33m\u001B[0m\u001B[1;33m\u001B[0m\u001B[0m\n\u001B[0m\u001B[0;32m      7\u001B[0m         \u001B[0mcross\u001B[0m \u001B[1;33m=\u001B[0m \u001B[0mreturn_cross_names\u001B[0m\u001B[1;33m(\u001B[0m\u001B[0mj\u001B[0m\u001B[1;33m)\u001B[0m\u001B[1;33m\u001B[0m\u001B[1;33m\u001B[0m\u001B[0m\n\u001B[0;32m      8\u001B[0m         \u001B[0mnew_row\u001B[0m \u001B[1;33m=\u001B[0m \u001B[1;33m{\u001B[0m\u001B[1;34m'Name of mutation'\u001B[0m\u001B[1;33m:\u001B[0m \u001B[0mmut\u001B[0m\u001B[1;33m,\u001B[0m \u001B[1;34m'Name of crossover'\u001B[0m\u001B[1;33m:\u001B[0m \u001B[0mcross\u001B[0m\u001B[1;33m,\u001B[0m \u001B[1;34m'Mean squared error'\u001B[0m\u001B[1;33m:\u001B[0m \u001B[0mmean\u001B[0m\u001B[1;33m,\u001B[0m \u001B[1;34m'R2 score'\u001B[0m\u001B[1;33m:\u001B[0m \u001B[0mr2\u001B[0m\u001B[1;33m}\u001B[0m\u001B[1;33m\u001B[0m\u001B[1;33m\u001B[0m\u001B[0m\n",
      "\u001B[1;32mD:\\comptech-winter-school_genetic-potioncraft\\genetic-potioncraft\\ga_func.py\u001B[0m in \u001B[0;36mga\u001B[1;34m(mut, cross)\u001B[0m\n\u001B[0;32m    160\u001B[0m     \u001B[1;31m# %%\u001B[0m\u001B[1;33m\u001B[0m\u001B[1;33m\u001B[0m\u001B[0m\n\u001B[0;32m    161\u001B[0m     \u001B[0mbest_ind\u001B[0m \u001B[1;33m=\u001B[0m \u001B[0mhof\u001B[0m\u001B[1;33m[\u001B[0m\u001B[1;36m0\u001B[0m\u001B[1;33m]\u001B[0m\u001B[1;33m\u001B[0m\u001B[1;33m\u001B[0m\u001B[0m\n\u001B[1;32m--> 162\u001B[1;33m     \u001B[0msymplified_best\u001B[0m \u001B[1;33m=\u001B[0m \u001B[0mgep\u001B[0m\u001B[1;33m.\u001B[0m\u001B[0msimplify\u001B[0m\u001B[1;33m(\u001B[0m\u001B[0mbest_ind\u001B[0m\u001B[1;33m)\u001B[0m\u001B[1;33m\u001B[0m\u001B[1;33m\u001B[0m\u001B[0m\n\u001B[0m\u001B[0;32m    163\u001B[0m \u001B[1;33m\u001B[0m\u001B[0m\n\u001B[0;32m    164\u001B[0m     \u001B[1;31m# %%\u001B[0m\u001B[1;33m\u001B[0m\u001B[1;33m\u001B[0m\u001B[0m\n",
      "\u001B[1;31mAttributeError\u001B[0m: module 'geppy' has no attribute 'simplify'"
     ]
    }
   ],
   "source": [
    "#results for a 1 mutation and 1 crossover\n",
    "result_dataframe = pd.DataFrame(columns=['Name of mutation', 'Name of crossover', 'Mean squared error', 'R2 score'])\n",
    "for i in [1, 2]:\n",
    "    mut = return_mut_names(i)\n",
    "    for j in [1,2]:\n",
    "        mean, r2 = ga(i, j)\n",
    "        cross = return_cross_names(j)\n",
    "        new_row = {'Name of mutation': mut, 'Name of crossover': cross, 'Mean squared error': mean, 'R2 score': r2}\n",
    "        result_dataframe = result_dataframe.append(new_row , ignore_index=True)\n",
    "\n",
    "result_dataframe.to_csv('result_1.csv', index=False)\n"
   ],
   "metadata": {
    "collapsed": false,
    "pycharm": {
     "name": "#%%\n"
    }
   }
  },
  {
   "cell_type": "code",
   "execution_count": 39,
   "outputs": [
    {
     "data": {
      "text/plain": "Empty DataFrame\nColumns: [Name of mutation, Name of crossover, Mean squared error, R2 score]\nIndex: []",
      "text/html": "<div>\n<style scoped>\n    .dataframe tbody tr th:only-of-type {\n        vertical-align: middle;\n    }\n\n    .dataframe tbody tr th {\n        vertical-align: top;\n    }\n\n    .dataframe thead th {\n        text-align: right;\n    }\n</style>\n<table border=\"1\" class=\"dataframe\">\n  <thead>\n    <tr style=\"text-align: right;\">\n      <th></th>\n      <th>Name of mutation</th>\n      <th>Name of crossover</th>\n      <th>Mean squared error</th>\n      <th>R2 score</th>\n    </tr>\n  </thead>\n  <tbody>\n  </tbody>\n</table>\n</div>"
     },
     "execution_count": 39,
     "metadata": {},
     "output_type": "execute_result"
    }
   ],
   "source": [
    "result_dataframe"
   ],
   "metadata": {
    "collapsed": false,
    "pycharm": {
     "name": "#%%\n"
    }
   }
  }
 ],
 "metadata": {
  "kernelspec": {
   "display_name": "Python 3",
   "language": "python",
   "name": "python3"
  },
  "language_info": {
   "codemirror_mode": {
    "name": "ipython",
    "version": 2
   },
   "file_extension": ".py",
   "mimetype": "text/x-python",
   "name": "python",
   "nbconvert_exporter": "python",
   "pygments_lexer": "ipython2",
   "version": "2.7.6"
  }
 },
 "nbformat": 4,
 "nbformat_minor": 0
}